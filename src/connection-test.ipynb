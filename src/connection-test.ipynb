{
 "cells": [
  {
   "cell_type": "code",
   "execution_count": 1,
   "metadata": {},
   "outputs": [
    {
     "name": "stdout",
     "output_type": "stream",
     "text": [
      "Node Count: 171\n",
      "Relationship Count: 253\n"
     ]
    }
   ],
   "source": [
    "import os\n",
    "from neo4j import GraphDatabase\n",
    "from dotenv import load_dotenv\n",
    "\n",
    "# Load environment variables\n",
    "load_dotenv()\n",
    "\n",
    "# Neo4j connection details\n",
    "neo4j_uri = os.getenv(\"NEO4J_URI\")\n",
    "neo4j_user = os.getenv(\"NEO4J_USER\")\n",
    "neo4j_password = os.getenv(\"NEO4J_PASSWORD\")\n",
    "\n",
    "def test_neo4j_connection(uri, user, password):\n",
    "    try:\n",
    "        # Use a 'with' block to manage the driver lifecycle\n",
    "        with GraphDatabase.driver(uri, auth=(user, password)) as driver:\n",
    "            # Verify connectivity\n",
    "            driver.verify_connectivity()\n",
    "\n",
    "            # Execute queries using execute_query (simpler and more concise)\n",
    "            records, _, _ = driver.execute_query(\"MATCH (n) RETURN count(n) AS node_count\")\n",
    "            node_count = records[0][\"node_count\"]\n",
    "            print(\"Node Count:\", node_count)\n",
    "\n",
    "            records, _, _ = driver.execute_query(\"MATCH ()-[r]->() RETURN count(r) AS relationship_count\")\n",
    "            relationship_count = records[0][\"relationship_count\"]\n",
    "            print(\"Relationship Count:\", relationship_count)\n",
    "\n",
    "    except Exception as e:\n",
    "        print(\"Failed to connect to Neo4j:\", e)\n",
    "\n",
    "# Run the test function\n",
    "test_neo4j_connection(neo4j_uri, neo4j_user, neo4j_password)"
   ]
  }
 ],
 "metadata": {
  "kernelspec": {
   "display_name": "nosql-venv",
   "language": "python",
   "name": "python3"
  },
  "language_info": {
   "codemirror_mode": {
    "name": "ipython",
    "version": 3
   },
   "file_extension": ".py",
   "mimetype": "text/x-python",
   "name": "python",
   "nbconvert_exporter": "python",
   "pygments_lexer": "ipython3",
   "version": "3.10.12"
  }
 },
 "nbformat": 4,
 "nbformat_minor": 2
}
